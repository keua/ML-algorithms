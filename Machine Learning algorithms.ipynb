{
 "cells": [
  {
   "cell_type": "markdown",
   "metadata": {},
   "source": [
    "# Perceptron Learning Algorithm PLA"
   ]
  },
  {
   "cell_type": "markdown",
   "metadata": {},
   "source": [
    "## Introduction"
   ]
  },
  {
   "cell_type": "code",
   "execution_count": 2,
   "metadata": {},
   "outputs": [],
   "source": [
    "\"\"\"\n",
    "Libraries needed to implement and visualize the PLA algorithm and its variant \n",
    "Adaline.\n",
    "\"\"\"\n",
    "import numpy as np\n",
    "from numpy.random import seed\n",
    "import pandas as pd\n",
    "import matplotlib.pyplot as plt\n",
    "from matplotlib.colors import ListedColormap\n",
    "from matplotlib import rcParams\n",
    "import imageio\n",
    "import sys\n",
    "import os\n",
    "from IPython.display import HTML\n",
    "\n",
    "# Images path\n",
    "IMAGE_PATH = 'images/'\n",
    "\n",
    "# setting up the figure size\n",
    "rcParams[\"figure.figsize\"] = 5, 5\n",
    "rcParams.update({'figure.max_open_warning': 0})"
   ]
  },
  {
   "cell_type": "code",
   "execution_count": 3,
   "metadata": {},
   "outputs": [],
   "source": [
    "class Perceptron:\n",
    "    \"\"\"\n",
    "    PLA, Perceptron Learning Algorithm and Adaline, Adaptive Linear Neuron.\n",
    "\n",
    "    Parameters\n",
    "    ----------\n",
    "        N : Integer\n",
    "            Number of linearly separable points to generate.\n",
    "        datarseed : Integer\n",
    "            Seed used to initialize the datas random generator.\n",
    "            Default: 1324\n",
    "        rmispts : Boolean\n",
    "            If True the misclassified points are selected randomly.\n",
    "            Default: False\n",
    "        misptsrseed : Integer\n",
    "            Seed used to initialize the misclasifications random generator.\n",
    "            Default: 1324\n",
    "        dimension : Integer\n",
    "            Dimension in which the points are generated.\n",
    "            Default: 2\n",
    "    Attributes\n",
    "    ----------\n",
    "        w : array\n",
    "            Weights vector.\n",
    "        X : array, shape = [nsamples, nfeatures]\n",
    "            Training vectors, where 'nasamples' is the number of\n",
    "            samples and 'nfeatures' is the number of features.\n",
    "        V : array\n",
    "            Line in 2d or n-plane in n-dimensions that separates the points.\n",
    "        dim : array\n",
    "            Dimension in which the algorithm works.\n",
    "    \"\"\"\n",
    "\n",
    "    def __init__(\n",
    "        self, N, datarseed=1324, rmispts=False, misptsrseed=1234, dimension=2\n",
    "    ):\n",
    "\n",
    "        self.dim = dimension\n",
    "        self.rgendata = np.random.RandomState(datarseed)\n",
    "        self.rgenmispts = np.random.RandomState(misptsrseed)\n",
    "        self.rmispts = rmispts\n",
    "\n",
    "        # Random linearly separated data,\n",
    "        var = [self.rgendata.uniform(-1, 1) for i in range(self.dim * 2)]\n",
    "        for i in range(self.dim + 1):\n",
    "            if i == 0:\n",
    "                self.V = np.array(\n",
    "                    var[i + 2] * var[i + 1] - var[i] * var[i + 3])\n",
    "            elif i % 2 == 0:\n",
    "                self.V = np.append(self.V, var[i] - var[i - 1])\n",
    "            else:\n",
    "                self.V = np.append(self.V, var[i])\n",
    "\n",
    "        self.X = self.generate_points(N)\n",
    "\n",
    "    def generate_points(self, N):\n",
    "        \"\"\"\n",
    "        Generate linearly separable data points method.\n",
    "\n",
    "        Parameters\n",
    "        -----------\n",
    "        N : Integer\n",
    "            Number of data points to generate.\n",
    "\n",
    "        Returns\n",
    "        --------\n",
    "        X : array, shape = [nsamples, nfeatures]\n",
    "            Training vectors, where 'nasamples' is the number of\n",
    "            samples and 'nfeatures' is the number of features.\n",
    "\n",
    "        \"\"\"\n",
    "        X = []\n",
    "        for i in range(N):\n",
    "            xn = [self.rgendata.uniform(-1, 1) for i in range(self.dim)]\n",
    "            x = np.append([1], xn)\n",
    "            s = int(np.sign(self.V.T.dot(x)))\n",
    "            X.append((x, s))\n",
    "        return X\n",
    "\n",
    "    def plot(self, mispts=None, vec=None, save=False, imgname='tmp'):\n",
    "        \"\"\"\n",
    "        2D data plot method.\n",
    "\n",
    "        Parameters\n",
    "        -----------\n",
    "        mispts : array\n",
    "            Set of misclassified data points.\n",
    "            Default: None\n",
    "        vec : array\n",
    "            Weights vector that describes the hypotesis.\n",
    "            Default: None\n",
    "        save : Boolean\n",
    "            If the value is True the plots are saved to disk.\n",
    "            Default: False\n",
    "        imgname : String\n",
    "            Name used to save the plot to disk.\n",
    "            Default: 'tmp'\n",
    "\n",
    "        \"\"\"\n",
    "\n",
    "        plt.xlim(-1, 1)\n",
    "        plt.ylim(-1, 1)\n",
    "        V = self.V\n",
    "\n",
    "        a, b = -V[1] / V[2], -V[0] / V[2]\n",
    "        l = np.linspace(-1, 1)\n",
    "\n",
    "        plt.plot(l, a * l + b, 'k-')\n",
    "        cols = {1: 'r', -1: 'b'}\n",
    "\n",
    "        if mispts == None:\n",
    "            for x, s in self.X:\n",
    "                plt.plot(x[1], x[2], cols[s] + 'o')\n",
    "\n",
    "        if mispts:\n",
    "            for x, s in mispts:\n",
    "                plt.plot(x[1], x[2], cols[s] + '.')\n",
    "\n",
    "        if vec != None:\n",
    "            aa, bb = -vec[1] / vec[2], -vec[0] / vec[2]\n",
    "            plt.plot(l, aa * l + bb, 'g-', lw=2)\n",
    "\n",
    "        if save:\n",
    "            if not mispts:\n",
    "                plt.title('N = %s' % (str(len(self.X))))\n",
    "            else:\n",
    "                plt.title(\n",
    "                    'N = %s with %s test points' %\n",
    "                    (str(len(self.X)), str(len(mispts)))\n",
    "                )\n",
    "            plt.savefig(\n",
    "                IMAGE_PATH + imgname, dpi=200, bbox_inches='tight'\n",
    "            )\n",
    "            plt.close()\n",
    "\n",
    "    def classification_error(self, vec, pts=None):\n",
    "        \"\"\"\n",
    "        Error classification method.\n",
    "\n",
    "        Parameters\n",
    "        -----------\n",
    "        vec : array\n",
    "            Weights vector used to classify a point.\n",
    "        pts : array\n",
    "            Data points to evaluate:\n",
    "            Default: self.X\n",
    "\n",
    "        Returns\n",
    "        --------\n",
    "        error : float\n",
    "            Fraction of misclassified points.\n",
    "        mispts: array\n",
    "            Set of misclassified points.\n",
    "\n",
    "        \"\"\"\n",
    "        # Error defined as fraction of misclassified points\n",
    "        if not pts:\n",
    "            pts = self.X\n",
    "        M = len(pts)\n",
    "        n_mispts = 0\n",
    "        mispts = []\n",
    "        for x, s in pts:\n",
    "            if int(np.sign(vec.T.dot(x))) != s:\n",
    "                n_mispts += 1\n",
    "                mispts.append((x, s))\n",
    "        error = n_mispts / float(M)\n",
    "        return error, mispts\n",
    "\n",
    "    def choose_miscl_point(self, vec):\n",
    "        \"\"\"\n",
    "        Choose a misclassified point method.\n",
    "\n",
    "        Parameters\n",
    "        -----------\n",
    "        vec : array\n",
    "            Weights vector used to classify a point.\n",
    "\n",
    "        Returns\n",
    "        --------\n",
    "        mispts[i] : array\n",
    "            Selected misclassified data point.\n",
    "\n",
    "        \"\"\"\n",
    "        # Choose a random point among the misclassified\n",
    "        pts = self.X\n",
    "        mispts = []\n",
    "        for x, s in pts:\n",
    "            if int(np.sign(vec.T.dot(x))) != s:\n",
    "                if not self.rmispts:\n",
    "                    return (x, s)\n",
    "                mispts.append((x, s))\n",
    "        return mispts[self.rgenmispts.randint(0, len(mispts))]\n",
    "\n",
    "    def pla(self, save=False, suffix=''):\n",
    "        \"\"\"\n",
    "        Perceptron learning algorithm method.\n",
    "\n",
    "        Parameters\n",
    "        -----------\n",
    "        save : Boolean\n",
    "            If value is True Save the sequence of plots in which the algorithm \n",
    "            go through.\n",
    "        suffix : String\n",
    "            suffix to add to the name used to save the sequence of plots to disk.\n",
    "\n",
    "        Returns\n",
    "        --------\n",
    "        it : Integer\n",
    "            Number of iterations the algorithm took to converge.\n",
    "\n",
    "        \"\"\"\n",
    "\n",
    "        # Initialize the weights to zeros\n",
    "        w = np.zeros(self.dim + 1)\n",
    "        X, N = self.X, len(self.X)\n",
    "\n",
    "        it = 0\n",
    "        # Iterate until all points are correctly classified\n",
    "        while self.classification_error(w)[0] != 0:\n",
    "            it += 1\n",
    "            # Pick random misclassified point\n",
    "            x, s = self.choose_miscl_point(w)\n",
    "            # Update weights\n",
    "            w += s * x\n",
    "            if save:\n",
    "                self.plot(vec=w.tolist())\n",
    "                plt.title('N = %s, Iteration %s\\n' % (str(N), str(it)))\n",
    "                plt.savefig(\n",
    "                    IMAGE_PATH + suffix + 'p_N%s_it%s' % (str(N), str(it)),\n",
    "                    dpi=200, bbox_inches='tight'\n",
    "                )\n",
    "                plt.close()\n",
    "        self.w = w\n",
    "        return it\n",
    "\n",
    "    def adaline(self, save=False, suffix='', lrate=1, limit=10):\n",
    "        \"\"\"\n",
    "        Adaptive linear neuron algorithm method.\n",
    "\n",
    "        Parameters\n",
    "        -----------\n",
    "        save : Boolean\n",
    "            If value is True Save the sequence of plots in which the algorithm \n",
    "            go through.\n",
    "        suffix : String\n",
    "            suffix to add to the name used to save the sequence of plots to disk.\n",
    "        lrate : float\n",
    "            Learning rate factor.\n",
    "        limit : Integer\n",
    "            Maximum number of updates the algorithm does.\n",
    "\n",
    "        Returns\n",
    "        --------\n",
    "        self : object\n",
    "\n",
    "        \"\"\"\n",
    "        # Initialize the weigths to zeros\n",
    "        w = np.zeros(self.dim + 1)\n",
    "        X, N = self.X, len(self.X)\n",
    "\n",
    "        it = 0\n",
    "        # Iterate until all points are correctly classified\n",
    "        while it < limit and self.classification_error(w)[0] != 0:\n",
    "            it += 1\n",
    "            # Pick random misclassified point\n",
    "            x, s = self.choose_miscl_point(w)\n",
    "            y = w.T.dot(x)\n",
    "            # Update weights\n",
    "            w += lrate * (s - y) * x\n",
    "            if save:\n",
    "                self.plot(vec=w.tolist())\n",
    "                plt.title('N = %s, Iteration %s\\n' % (str(N), str(it)))\n",
    "                plt.savefig(\n",
    "                    IMAGE_PATH + suffix + 'p_N%s_it%s' % (str(N), str(it)),\n",
    "                    dpi=200, bbox_inches='tight'\n",
    "                )\n",
    "                plt.close()\n",
    "        self.w = w\n",
    "        return it\n",
    "\n",
    "    def check_error(self, M, vec):\n",
    "        \"\"\"\n",
    "        Test data error check method.\n",
    "\n",
    "        Parameters\n",
    "        -----------\n",
    "        N : Integer\n",
    "            Number of data points to generate.\n",
    "        vec : array\n",
    "            Weights vector, generated by running the algorithm with a training\n",
    "            set, used to classify the data points.\n",
    "\n",
    "        Returns\n",
    "        --------\n",
    "        error : float\n",
    "            Fraction of misclassified points.\n",
    "        miscpoints: array\n",
    "            Set of misclassified points.\n",
    "        check_pts: array\n",
    "            The generated data points.\n",
    "\n",
    "        \"\"\"\n",
    "        check_pts = self.generate_points(M)\n",
    "        error, miscpoints = self.classification_error(vec, pts=check_pts)\n",
    "        return error, miscpoints, check_pts"
   ]
  },
  {
   "cell_type": "markdown",
   "metadata": {},
   "source": [
    "## Visualize"
   ]
  },
  {
   "cell_type": "code",
   "execution_count": 4,
   "metadata": {},
   "outputs": [],
   "source": [
    "def get_images(suffix):\n",
    "    \"\"\"\n",
    "    Get the list of images associated to a suffix.\n",
    "\n",
    "    Parameters\n",
    "    -----------\n",
    "    suffix : String\n",
    "        Suffix of set of requested images.\n",
    "\n",
    "    Returns\n",
    "    --------\n",
    "    sortpngs : array\n",
    "        Set of images (plots) names.\n",
    "\n",
    "    \"\"\"\n",
    "    basedir = os.getcwd()\n",
    "    os.chdir(basedir)\n",
    "    pngs = [pl for pl in os.listdir(IMAGE_PATH) if pl.endswith(\n",
    "        'png') and pl.startswith(suffix)]\n",
    "    sortpngs = sorted(pngs, key=lambda a: int(a.split('it')[1][:-4]))\n",
    "    return sortpngs"
   ]
  },
  {
   "cell_type": "code",
   "execution_count": 5,
   "metadata": {},
   "outputs": [],
   "source": [
    "def show_animation(image1, image2):\n",
    "    \"\"\"\n",
    "    Show images or animations method.\n",
    "\n",
    "    Parameters\n",
    "    -----------\n",
    "    image1 : String\n",
    "        image url.\n",
    "    image2 : String\n",
    "        image url.\n",
    "\n",
    "    Returns\n",
    "    --------\n",
    "    htmlcode : HTML\n",
    "\n",
    "    \"\"\"\n",
    "    header = \"<html><head><style>*{box-sizing:border-box;}.column{float:left;width:50%;padding:2px;}/*Clearfix(clearfloats)*/.row::after{content:\"\";clear:both;display:table;}</style></head><body>\"\n",
    "    footer = \"</body></html>\"\n",
    "    return HTML(\n",
    "        header +\n",
    "        '''\n",
    "        <div class=\"row\">\n",
    "            <div class=\"column\">\n",
    "            <img style=\"display: block;margin-left: auto;margin-right: auto;width: 60%;\" src=\"''' + IMAGE_PATH + image1 + '''\">\n",
    "            </div>\n",
    "            <div class=\"column\">\n",
    "            <img style=\"display: block;margin-left: auto;margin-right: auto;width: 60%;\" src=\"''' + IMAGE_PATH + image2 + '''\">\n",
    "            </div>\n",
    "        </div>\n",
    "        '''\n",
    "        + footer\n",
    "    )"
   ]
  },
  {
   "cell_type": "code",
   "execution_count": 6,
   "metadata": {},
   "outputs": [],
   "source": [
    "def create_animation(filenames, duration=0.50, name='tmp'):\n",
    "    \"\"\"\n",
    "    Create gif animation method. \n",
    "\n",
    "    Parameters\n",
    "    -----------\n",
    "    filenames : array\n",
    "        Set of the images names to create the animation.\n",
    "    duration : float\n",
    "        Duration of one image in the animation.\n",
    "    name : String\n",
    "        Name used to save the animation to disk.\n",
    "\n",
    "    Returns\n",
    "    --------\n",
    "    gifname : String\n",
    "        Name of the animation file.\n",
    "\n",
    "    \"\"\"\n",
    "    images = []\n",
    "    for filename in filenames:\n",
    "        images.append(imageio.imread(IMAGE_PATH + filename))\n",
    "    gifname = name + \".gif\"\n",
    "    output_file = IMAGE_PATH + '%s' % gifname\n",
    "    imageio.mimsave(output_file, images, duration=duration)\n",
    "    return gifname"
   ]
  },
  {
   "cell_type": "markdown",
   "metadata": {},
   "source": [
    "## PLA, Problem 1.4  "
   ]
  },
  {
   "cell_type": "markdown",
   "metadata": {},
   "source": [
    "<p>\n",
    "    Generate a linearly separable data set of size 20. Plot the examples {(xn , Yn)}\n",
    "as well as the target function f on a plane. Be sure to mark the examples from\n",
    "different classes differently, and add labels to the axes of the plot.\n",
    "</p>  "
   ]
  },
  {
   "cell_type": "code",
   "execution_count": 7,
   "metadata": {},
   "outputs": [],
   "source": [
    "p_b = Perceptron(20,datarseed=1995)"
   ]
  },
  {
   "cell_type": "markdown",
   "metadata": {},
   "source": [
    "<p>\n",
    "    Run the perceptron learning algorithm on the data set above. Report the\n",
    "number of updates that the algorithm takes before converging. Plot the\n",
    "examples { (xn, Yn) } , the target function f, and the final hypothesis g in\n",
    "the same figure. Comment on whether f is close to g.\n",
    "</p>"
   ]
  },
  {
   "cell_type": "code",
   "execution_count": 8,
   "metadata": {},
   "outputs": [
    {
     "name": "stdout",
     "output_type": "stream",
     "text": [
      "Number of iteratios: 11\n"
     ]
    }
   ],
   "source": [
    "iterations = p_b.pla(save=True, suffix='pb_')\n",
    "print(\"Number of iteratios: %d\" % (iterations))"
   ]
  },
  {
   "cell_type": "code",
   "execution_count": 9,
   "metadata": {},
   "outputs": [
    {
     "data": {
      "text/html": [
       "<html><head><style>*{box-sizing:border-box;}.column{float:left;width:50%;padding:2px;}/*Clearfix(clearfloats)*/.row::after{content:;clear:both;display:table;}</style></head><body>\n",
       "        <div class=\"row\">\n",
       "            <div class=\"column\">\n",
       "            <img style=\"display: block;margin-left: auto;margin-right: auto;width: 60%;\" src=\"images/animation_pb_1995.gif\">\n",
       "            </div>\n",
       "            <div class=\"column\">\n",
       "            <img style=\"display: block;margin-left: auto;margin-right: auto;width: 60%;\" src=\"images/pb_p_N20_it11.png\">\n",
       "            </div>\n",
       "        </div>\n",
       "        </body></html>"
      ],
      "text/plain": [
       "<IPython.core.display.HTML object>"
      ]
     },
     "execution_count": 9,
     "metadata": {},
     "output_type": "execute_result"
    }
   ],
   "source": [
    "images = get_images('pb_')\n",
    "animation = create_animation(images,0.50,name='animation_pb_1995')\n",
    "show_animation(animation, images[-1])"
   ]
  },
  {
   "cell_type": "markdown",
   "metadata": {},
   "source": [
    "<p>\n",
    "Repeat everything in (b) with another randomly generated data set of\n",
    "size 20. Compare you r results with (b).\n",
    "</p>"
   ]
  },
  {
   "cell_type": "code",
   "execution_count": 10,
   "metadata": {},
   "outputs": [],
   "source": [
    "p_c = Perceptron(20,datarseed=1996)"
   ]
  },
  {
   "cell_type": "code",
   "execution_count": 11,
   "metadata": {},
   "outputs": [
    {
     "name": "stdout",
     "output_type": "stream",
     "text": [
      "Number of iteratios: 22\n"
     ]
    }
   ],
   "source": [
    "iterations = p_c.pla(save=True, suffix='pc_')\n",
    "print(\"Number of iteratios: %d\" % (iterations))"
   ]
  },
  {
   "cell_type": "code",
   "execution_count": 12,
   "metadata": {},
   "outputs": [
    {
     "data": {
      "text/html": [
       "<html><head><style>*{box-sizing:border-box;}.column{float:left;width:50%;padding:2px;}/*Clearfix(clearfloats)*/.row::after{content:;clear:both;display:table;}</style></head><body>\n",
       "        <div class=\"row\">\n",
       "            <div class=\"column\">\n",
       "            <img style=\"display: block;margin-left: auto;margin-right: auto;width: 60%;\" src=\"images/animation_pc_1996.gif\">\n",
       "            </div>\n",
       "            <div class=\"column\">\n",
       "            <img style=\"display: block;margin-left: auto;margin-right: auto;width: 60%;\" src=\"images/pc_p_N20_it22.png\">\n",
       "            </div>\n",
       "        </div>\n",
       "        </body></html>"
      ],
      "text/plain": [
       "<IPython.core.display.HTML object>"
      ]
     },
     "execution_count": 12,
     "metadata": {},
     "output_type": "execute_result"
    }
   ],
   "source": [
    "images = get_images('pc_')\n",
    "animation = create_animation(images,0.50,name='animation_pc_1996')\n",
    "show_animation(animation, images[-1])"
   ]
  },
  {
   "cell_type": "markdown",
   "metadata": {},
   "source": [
    "<p>\n",
    " Repeat everything in (b) with a nother randomly generated data set of\n",
    "size 100. Compare you r results with (b).\n",
    "</p>"
   ]
  },
  {
   "cell_type": "code",
   "execution_count": 13,
   "metadata": {},
   "outputs": [],
   "source": [
    "p_d = Perceptron(100,datarseed=7878)"
   ]
  },
  {
   "cell_type": "code",
   "execution_count": 14,
   "metadata": {},
   "outputs": [
    {
     "name": "stdout",
     "output_type": "stream",
     "text": [
      "Number of iteratios: 75\n"
     ]
    }
   ],
   "source": [
    "iterations = p_d.pla(save=True, suffix='pd_')\n",
    "print(\"Number of iteratios: %d\" % (iterations))"
   ]
  },
  {
   "cell_type": "code",
   "execution_count": 15,
   "metadata": {},
   "outputs": [
    {
     "data": {
      "text/html": [
       "<html><head><style>*{box-sizing:border-box;}.column{float:left;width:50%;padding:2px;}/*Clearfix(clearfloats)*/.row::after{content:;clear:both;display:table;}</style></head><body>\n",
       "        <div class=\"row\">\n",
       "            <div class=\"column\">\n",
       "            <img style=\"display: block;margin-left: auto;margin-right: auto;width: 60%;\" src=\"images/animation_pd_7878.gif\">\n",
       "            </div>\n",
       "            <div class=\"column\">\n",
       "            <img style=\"display: block;margin-left: auto;margin-right: auto;width: 60%;\" src=\"images/pd_p_N100_it75.png\">\n",
       "            </div>\n",
       "        </div>\n",
       "        </body></html>"
      ],
      "text/plain": [
       "<IPython.core.display.HTML object>"
      ]
     },
     "execution_count": 15,
     "metadata": {},
     "output_type": "execute_result"
    }
   ],
   "source": [
    "images = get_images('pd_')\n",
    "animation = create_animation(images,0.50,name='animation_pd_7878')\n",
    "show_animation(animation, images[-1])"
   ]
  },
  {
   "cell_type": "markdown",
   "metadata": {},
   "source": [
    "<p>\n",
    "Repeat everything in (b) with a nother randomly generated data set of\n",
    "size 1, 000. Compare you r results with (b)\n",
    "</p>"
   ]
  },
  {
   "cell_type": "code",
   "execution_count": 16,
   "metadata": {},
   "outputs": [],
   "source": [
    "p_e = Perceptron(1000,datarseed=2000)\n",
    "p_e.plot(save=True, imgname='pe_sample_2000')"
   ]
  },
  {
   "cell_type": "code",
   "execution_count": 17,
   "metadata": {},
   "outputs": [
    {
     "name": "stdout",
     "output_type": "stream",
     "text": [
      "Number of iteratios: 432\n"
     ]
    }
   ],
   "source": [
    "iterations = p_e.pla()\n",
    "print(\"Number of iteratios: %d\" % (iterations))"
   ]
  },
  {
   "cell_type": "code",
   "execution_count": 18,
   "metadata": {},
   "outputs": [
    {
     "data": {
      "text/html": [
       "<html><head><style>*{box-sizing:border-box;}.column{float:left;width:50%;padding:2px;}/*Clearfix(clearfloats)*/.row::after{content:;clear:both;display:table;}</style></head><body>\n",
       "        <div class=\"row\">\n",
       "            <div class=\"column\">\n",
       "            <img style=\"display: block;margin-left: auto;margin-right: auto;width: 60%;\" src=\"images/pe_sample_2000.png\">\n",
       "            </div>\n",
       "            <div class=\"column\">\n",
       "            <img style=\"display: block;margin-left: auto;margin-right: auto;width: 60%;\" src=\"images/animation_pe_sample_2000.png\">\n",
       "            </div>\n",
       "        </div>\n",
       "        </body></html>"
      ],
      "text/plain": [
       "<IPython.core.display.HTML object>"
      ]
     },
     "execution_count": 18,
     "metadata": {},
     "output_type": "execute_result"
    }
   ],
   "source": [
    "p_e.plot(vec=p_e.w.tolist(), save=True, imgname='animation_pe_sample_2000')\n",
    "show_animation('pe_sample_2000.png', 'animation_pe_sample_2000.png')"
   ]
  },
  {
   "cell_type": "markdown",
   "metadata": {},
   "source": [
    "<p>\n",
    "Modify the algorithm such that it takes Xn E J10 instead of J2 . Randomly generate a linearly separable data set of size 1, 000 with Xn E J10 and feed the data set to the a lgorithm. How many updates does the\n",
    "a lgorithm take to converge?\n",
    "</p>"
   ]
  },
  {
   "cell_type": "code",
   "execution_count": 19,
   "metadata": {},
   "outputs": [
    {
     "name": "stdout",
     "output_type": "stream",
     "text": [
      "Number of iteratios: 4569\n"
     ]
    }
   ],
   "source": [
    "p_f = Perceptron(1000,datarseed=2003,dimension=10)\n",
    "iterations = p_f.pla()\n",
    "print(\"Number of iteratios: %d\" % (iterations))"
   ]
  },
  {
   "cell_type": "markdown",
   "metadata": {},
   "source": [
    "Repeat the a lgorithm on the same data set as (f) fr 100 experiments. In\n",
    "the iterations of each experiment, pick x(t) randomly instead of deterministically. Plot a histogram fr the number of updates that the algorithm\n",
    "takes to converge."
   ]
  },
  {
   "cell_type": "code",
   "execution_count": 20,
   "metadata": {},
   "outputs": [],
   "source": [
    "p_g = Perceptron(1000,datarseed=2003, rmispts=True, misptsrseed=8745, dimension=10)\n",
    "aiter = []\n",
    "for i in range(100):\n",
    "    iterations = p_g.pla()\n",
    "    aiter.append(iterations)\n",
    "    #print(\"Number of iteratios: %d\" % (iterations))"
   ]
  },
  {
   "cell_type": "code",
   "execution_count": 21,
   "metadata": {},
   "outputs": [
    {
     "data": {
      "image/png": "[encoded data removed]",
      "text/plain": [
       "<matplotlib.figure.Figure at 0x7f46e5796eb8>"
      ]
     },
     "metadata": {},
     "output_type": "display_data"
    }
   ],
   "source": [
    "x = np.array([1825, 2463, 2989, 3115, 2389, 2175, 2101, 3383, 2983, 2777,\n",
    "              3313, 2802, 3275, 3553, 1964, 3111, 2999, 3741, 3421, 3088,\n",
    "              2941, 3097, 2377, 3447, 2615, 2783, 2905, 2675, 2215, 3241,\n",
    "              3373, 2989, 2863, 3637, 3229, 2685, 3625, 2127, 2537, 3995,\n",
    "              2743, 2821, 3339, 2684, 3571, 2569, 2129, 3011, 2115, 3951,\n",
    "              2839, 2035, 2677, 4323, 3303, 2947, 2919, 1978, 3337, 2541,\n",
    "              3203, 3043, 2857, 2917, 2541, 3333, 2615, 4045, 3305, 2791,\n",
    "              2499, 3313, 3627, 2701, 3099, 2857, 3043, 2885, 2651, 2729,\n",
    "              2987, 3535, 1445, 2789, 2195, 2819, 2896, 3587, 2301, 2943,\n",
    "              3979, 2059, 2003, 3113, 3689, 3041, 2019, 3825, 3127, 4529]\n",
    "            )\n",
    "\n",
    "plt.gcf().clear()\n",
    "\n",
    "# the histogram of the data\n",
    "n, bins, patches = plt.hist(x, 5, facecolor='blue', alpha=0.75)\n",
    "plt.xlabel('Iterations')\n",
    "plt.ylabel('Count')\n",
    "plt.title(r'$\\mathrm{Histogram\\ of\\ IQ:}\\ \\mu=' + str(x.mean()) + ',\\ \\sigma='+ str(x.std()) +'$')\n",
    "plt.grid(True)\n",
    "\n",
    "plt.show()"
   ]
  },
  {
   "cell_type": "markdown",
   "metadata": {},
   "source": [
    "<p>\n",
    "Summarize your conclusions with respect to accuracy a nd running time\n",
    "as a function of N and d.\n",
    "</p>"
   ]
  },
  {
   "cell_type": "markdown",
   "metadata": {},
   "source": [
    "## ADALINE, Problem 1.5"
   ]
  },
  {
   "cell_type": "markdown",
   "metadata": {},
   "source": [
    "<p>\n",
    "(a) Generate a tra ining data set of size 100 similar to that used in Exercise 1 .4.\n",
    "Generate a test data set of size 10, 000 from the same process. To get g,\n",
    "run the a lgorithm a bove with ' = 100 on the training data set, u ntil\n",
    "a maximum of 1 , 000 updates has been reached. Plot the training data\n",
    "set, the target function f, and the final hypothesis g on the same figure.\n",
    "Report the error on the test set\n",
    "</p>"
   ]
  },
  {
   "cell_type": "code",
   "execution_count": 22,
   "metadata": {
    "scrolled": false
   },
   "outputs": [
    {
     "name": "stdout",
     "output_type": "stream",
     "text": [
      "Number of iteratios: 1000.000000\n"
     ]
    }
   ],
   "source": [
    "pada_a = Perceptron(100, datarseed=1995, rmispts=True, misptsrseed=8955)\n",
    "\n",
    "iterations = pada_a.adaline(lrate=4, limit=1000)\n",
    "print(\"Number of iteratios: %f\" % (iterations))"
   ]
  },
  {
   "cell_type": "code",
   "execution_count": 23,
   "metadata": {},
   "outputs": [
    {
     "name": "stdout",
     "output_type": "stream",
     "text": [
      "fraction of misclassified points: 0.302700\n"
     ]
    },
    {
     "data": {
      "text/html": [
       "<html><head><style>*{box-sizing:border-box;}.column{float:left;width:50%;padding:2px;}/*Clearfix(clearfloats)*/.row::after{content:;clear:both;display:table;}</style></head><body>\n",
       "        <div class=\"row\">\n",
       "            <div class=\"column\">\n",
       "            <img style=\"display: block;margin-left: auto;margin-right: auto;width: 60%;\" src=\"images/pada_4_10000.png\">\n",
       "            </div>\n",
       "            <div class=\"column\">\n",
       "            <img style=\"display: block;margin-left: auto;margin-right: auto;width: 60%;\" src=\"images/pada_4_miscpoints.png\">\n",
       "            </div>\n",
       "        </div>\n",
       "        </body></html>"
      ],
      "text/plain": [
       "<IPython.core.display.HTML object>"
      ]
     },
     "execution_count": 23,
     "metadata": {},
     "output_type": "execute_result"
    }
   ],
   "source": [
    "error, miscpoints, x = pada_a.check_error(10000,pada_a.w)\n",
    "print(\"fraction of misclassified points: %f\" % error)\n",
    "plt.gcf().clear()\n",
    "pada_a.plot(vec=pada_a.w.tolist(), save=True, imgname='pada_4_10000')\n",
    "plt.gcf().clear()\n",
    "pada_a.plot(mispts=miscpoints, save=True, imgname='pada_4_miscpoints')\n",
    "show_animation('pada_4_10000.png','pada_4_miscpoints.png')"
   ]
  },
  {
   "cell_type": "markdown",
   "metadata": {},
   "source": [
    "<p>\n",
    "(b) Use the data set in (a) and redo everything with ' = 1\n",
    "</p>"
   ]
  },
  {
   "cell_type": "code",
   "execution_count": 24,
   "metadata": {},
   "outputs": [
    {
     "name": "stdout",
     "output_type": "stream",
     "text": [
      "Number of iteratios: 48.000000\n"
     ]
    }
   ],
   "source": [
    "pada_b = Perceptron(100, datarseed=1995, rmispts=True, misptsrseed=8955)\n",
    "\n",
    "iterations = pada_b.adaline(lrate=1, limit=1000)\n",
    "print(\"Number of iteratios: %f\" % (iterations))"
   ]
  },
  {
   "cell_type": "code",
   "execution_count": 25,
   "metadata": {},
   "outputs": [
    {
     "name": "stdout",
     "output_type": "stream",
     "text": [
      "fraction of misclassified points: 0.007400\n"
     ]
    },
    {
     "data": {
      "text/html": [
       "<html><head><style>*{box-sizing:border-box;}.column{float:left;width:50%;padding:2px;}/*Clearfix(clearfloats)*/.row::after{content:;clear:both;display:table;}</style></head><body>\n",
       "        <div class=\"row\">\n",
       "            <div class=\"column\">\n",
       "            <img style=\"display: block;margin-left: auto;margin-right: auto;width: 60%;\" src=\"images/pada_1_10000.png\">\n",
       "            </div>\n",
       "            <div class=\"column\">\n",
       "            <img style=\"display: block;margin-left: auto;margin-right: auto;width: 60%;\" src=\"images/pada_1_miscpoints.png\">\n",
       "            </div>\n",
       "        </div>\n",
       "        </body></html>"
      ],
      "text/plain": [
       "<IPython.core.display.HTML object>"
      ]
     },
     "execution_count": 25,
     "metadata": {},
     "output_type": "execute_result"
    }
   ],
   "source": [
    "error, miscpoints, x = pada_b.check_error(10000,pada_b.w)\n",
    "print(\"fraction of misclassified points: %f\" % error)\n",
    "plt.gcf().clear()\n",
    "pada_b.plot(vec=pada_b.w.tolist(), save=True, imgname='pada_1_10000')\n",
    "plt.gcf().clear()\n",
    "pada_b.plot(mispts=miscpoints, save=True, imgname='pada_1_miscpoints')\n",
    "show_animation('pada_1_10000.png','pada_1_miscpoints.png')"
   ]
  },
  {
   "cell_type": "markdown",
   "metadata": {},
   "source": [
    "<p>\n",
    "(c) Use the data set in (a) and redo everything with ' = 0.01\n",
    "</p>"
   ]
  },
  {
   "cell_type": "code",
   "execution_count": 26,
   "metadata": {},
   "outputs": [
    {
     "name": "stdout",
     "output_type": "stream",
     "text": [
      "Number of iteratios: 603.000000\n"
     ]
    }
   ],
   "source": [
    "pada_c = Perceptron(100, datarseed=1995, rmispts=True, misptsrseed=8955)\n",
    "iterations = pada_c.adaline(lrate=0.01, limit=1000)\n",
    "\n",
    "print(\"Number of iteratios: %f\" % (iterations))"
   ]
  },
  {
   "cell_type": "code",
   "execution_count": 27,
   "metadata": {},
   "outputs": [
    {
     "name": "stdout",
     "output_type": "stream",
     "text": [
      "fraction of misclassified points: 0.003800\n"
     ]
    },
    {
     "data": {
      "text/html": [
       "<html><head><style>*{box-sizing:border-box;}.column{float:left;width:50%;padding:2px;}/*Clearfix(clearfloats)*/.row::after{content:;clear:both;display:table;}</style></head><body>\n",
       "        <div class=\"row\">\n",
       "            <div class=\"column\">\n",
       "            <img style=\"display: block;margin-left: auto;margin-right: auto;width: 60%;\" src=\"images/pada_001_10000.png\">\n",
       "            </div>\n",
       "            <div class=\"column\">\n",
       "            <img style=\"display: block;margin-left: auto;margin-right: auto;width: 60%;\" src=\"images/pada_001_miscpoints.png\">\n",
       "            </div>\n",
       "        </div>\n",
       "        </body></html>"
      ],
      "text/plain": [
       "<IPython.core.display.HTML object>"
      ]
     },
     "execution_count": 27,
     "metadata": {},
     "output_type": "execute_result"
    }
   ],
   "source": [
    "error, miscpoints, x = pada_c.check_error(10000,pada_c.w)\n",
    "print(\"fraction of misclassified points: %f\" % error)\n",
    "plt.gcf().clear()\n",
    "pada_c.plot(vec=pada_c.w.tolist(), save=True, imgname='pada_001_10000')\n",
    "plt.gcf().clear()\n",
    "pada_c.plot(mispts=miscpoints, save=True, imgname='pada_001_miscpoints')\n",
    "show_animation('pada_001_10000.png','pada_001_miscpoints.png')"
   ]
  },
  {
   "cell_type": "markdown",
   "metadata": {},
   "source": [
    "<p>\n",
    "(d) Use the data set in (a) and redo everything with ' = 0.0001\n",
    "</p>"
   ]
  },
  {
   "cell_type": "code",
   "execution_count": 28,
   "metadata": {},
   "outputs": [
    {
     "name": "stdout",
     "output_type": "stream",
     "text": [
      "Number of iteratios: 205.000000\n"
     ]
    }
   ],
   "source": [
    "pada_d = Perceptron(100, datarseed=1995, rmispts=True, misptsrseed=8955)\n",
    "iterations = pada_d.adaline(lrate=0.0001, limit=1000)\n",
    "\n",
    "print(\"Number of iteratios: %f\" % (iterations))"
   ]
  },
  {
   "cell_type": "code",
   "execution_count": 29,
   "metadata": {},
   "outputs": [
    {
     "name": "stdout",
     "output_type": "stream",
     "text": [
      "fraction of misclassified points: 0.007500\n"
     ]
    },
    {
     "data": {
      "text/html": [
       "<html><head><style>*{box-sizing:border-box;}.column{float:left;width:50%;padding:2px;}/*Clearfix(clearfloats)*/.row::after{content:;clear:both;display:table;}</style></head><body>\n",
       "        <div class=\"row\">\n",
       "            <div class=\"column\">\n",
       "            <img style=\"display: block;margin-left: auto;margin-right: auto;width: 60%;\" src=\"images/pada_00001_10000.png\">\n",
       "            </div>\n",
       "            <div class=\"column\">\n",
       "            <img style=\"display: block;margin-left: auto;margin-right: auto;width: 60%;\" src=\"images/pada_00001_miscpoints.png\">\n",
       "            </div>\n",
       "        </div>\n",
       "        </body></html>"
      ],
      "text/plain": [
       "<IPython.core.display.HTML object>"
      ]
     },
     "execution_count": 29,
     "metadata": {},
     "output_type": "execute_result"
    }
   ],
   "source": [
    "error, miscpoints, x = pada_d.check_error(10000,pada_d.w)\n",
    "print(\"fraction of misclassified points: %f\" % error)\n",
    "plt.gcf().clear()\n",
    "pada_d.plot(vec=pada_d.w.tolist(), save=True, imgname='pada_00001_10000')\n",
    "plt.gcf().clear()\n",
    "pada_d.plot(mispts=miscpoints, save=True, imgname='pada_00001_miscpoints')\n",
    "show_animation('pada_00001_10000.png','pada_00001_miscpoints.png')"
   ]
  },
  {
   "cell_type": "code",
   "execution_count": null,
   "metadata": {
    "collapsed": true
   },
   "outputs": [],
   "source": []
  }
 ],
 "metadata": {
  "kernelspec": {
   "display_name": "Python 3",
   "language": "python",
   "name": "python3"
  },
  "language_info": {
   "codemirror_mode": {
    "name": "ipython",
    "version": 3
   },
   "file_extension": ".py",
   "mimetype": "text/x-python",
   "name": "python",
   "nbconvert_exporter": "python",
   "pygments_lexer": "ipython3",
   "version": "3.6.4"
  }
 },
 "nbformat": 4,
 "nbformat_minor": 2
}
