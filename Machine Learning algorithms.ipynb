{
 "cells": [
  {
   "cell_type": "markdown",
   "metadata": {},
   "source": [
    "# Machine Learning algorithms"
   ]
  },
  {
   "cell_type": "markdown",
   "metadata": {},
   "source": [
    "## Introduction\n",
    "\n",
    "In this notebook we will study 2 different Machine Learning algorithms **Perceptron Learning Algorithm (PLA)** and its variant **ADaptative LInear NEuron (ADALINE)**. We will do that through doing a set of experiments for each algorithm and analyzing its results to finally discuss the main features of each algorithm."
   ]
  },
  {
   "cell_type": "markdown",
   "metadata": {},
   "source": [
    "### Learning from data\n",
    "<img src=\"images/lfd.png\" alt=\"drawing\" width=\"400\"/>"
   ]
  },
  {
   "cell_type": "markdown",
   "metadata": {},
   "source": [
    "- Write and Introduction of ML according to the Book\n",
    "\n",
    "\n",
    "- Write a paragraph talking about the different ML algorithms\n",
    "\n",
    "\n",
    "- Describe the PLA algorithm\n",
    "\n",
    "\n",
    "- Describe the Adaline algorithm\n",
    "\n",
    "\n",
    "- Compare both algorithms\n",
    "\n",
    "\n",
    "- Explain the experiment"
   ]
  },
  {
   "cell_type": "code",
   "execution_count": 83,
   "metadata": {
    "collapsed": true
   },
   "outputs": [],
   "source": [
    "\"\"\"\n",
    "Libraries needed to implement and visualize the PLA algorithm and its variant \n",
    "Adaline.\n",
    "\"\"\"\n",
    "import numpy as np\n",
    "from numpy.random import seed\n",
    "import pandas as pd\n",
    "import matplotlib.pyplot as plt\n",
    "from matplotlib.colors import ListedColormap\n",
    "from matplotlib import rcParams\n",
    "import imageio\n",
    "import sys\n",
    "import os\n",
    "from IPython.display import HTML\n",
    "\n",
    "# Images path\n",
    "IMAGE_PATH = 'images/'\n",
    "\n",
    "# setting up the figure size\n",
    "rcParams[\"figure.figsize\"] = 5, 5\n",
    "rcParams.update({'figure.max_open_warning': 0})"
   ]
  },
  {
   "cell_type": "code",
   "execution_count": 84,
   "metadata": {
    "collapsed": true
   },
   "outputs": [],
   "source": [
    "class Perceptron:\n",
    "    \"\"\"\n",
    "    PLA, Perceptron Learning Algorithm and Adaline, Adaptive Linear Neuron.\n",
    "\n",
    "    Parameters\n",
    "    ----------\n",
    "        N : Integer\n",
    "            Number of linearly separable points to generate.\n",
    "        datarseed : Integer\n",
    "            Seed used to initialize the datas random generator.\n",
    "            Default: 1324\n",
    "        rmispts : Boolean\n",
    "            If True the misclassified points are selected randomly.\n",
    "            Default: False\n",
    "        misptsrseed : Integer\n",
    "            Seed used to initialize the misclasifications random generator.\n",
    "            Default: 1324\n",
    "        dimension : Integer\n",
    "            Dimension in which the points are generated.\n",
    "            Default: 2\n",
    "    Attributes\n",
    "    ----------\n",
    "        w : array\n",
    "            Weights vector.\n",
    "        X : array, shape = [nsamples, nfeatures]\n",
    "            Training vectors, where 'nasamples' is the number of\n",
    "            samples and 'nfeatures' is the number of features.\n",
    "        V : array\n",
    "            Line in 2d or n-plane in n-dimensions that separates the points.\n",
    "        dim : array\n",
    "            Dimension in which the algorithm works.\n",
    "    \"\"\"\n",
    "\n",
    "    def __init__(\n",
    "        self, N, datarseed=1324, rmispts=False, misptsrseed=1234, dimension=2\n",
    "    ):\n",
    "\n",
    "        self.dim = dimension\n",
    "        self.rgendata = np.random.RandomState(datarseed)\n",
    "        self.rgenmispts = np.random.RandomState(misptsrseed)\n",
    "        self.rmispts = rmispts\n",
    "\n",
    "        # Random linearly separated data,\n",
    "        var = [self.rgendata.uniform(-1, 1) for i in range(self.dim * 2)]\n",
    "        for i in range(self.dim + 1):\n",
    "            if i == 0:\n",
    "                self.V = np.array(\n",
    "                    var[i + 2] * var[i + 1] - var[i] * var[i + 3])\n",
    "            elif i % 2 == 0:\n",
    "                self.V = np.append(self.V, var[i] - var[i - 1])\n",
    "            else:\n",
    "                self.V = np.append(self.V, var[i])\n",
    "\n",
    "        self.X = self.generate_points(N)\n",
    "\n",
    "    def generate_points(self, N):\n",
    "        \"\"\"\n",
    "        Generate linearly separable data points method.\n",
    "\n",
    "        Parameters\n",
    "        -----------\n",
    "        N : Integer\n",
    "            Number of data points to generate.\n",
    "\n",
    "        Returns\n",
    "        --------\n",
    "        X : array, shape = [nsamples, nfeatures]\n",
    "            Training vectors, where 'nasamples' is the number of\n",
    "            samples and 'nfeatures' is the number of features.\n",
    "\n",
    "        \"\"\"\n",
    "        X = []\n",
    "        for i in range(N):\n",
    "            xn = [self.rgendata.uniform(-1, 1) for i in range(self.dim)]\n",
    "            x = np.append([1], xn)\n",
    "            s = int(np.sign(self.V.T.dot(x)))\n",
    "            X.append((x, s))\n",
    "        return X\n",
    "\n",
    "    def plot(self, mispts=None, vec=None, save=False, imgname='tmp'):\n",
    "        \"\"\"\n",
    "        2D data plot method.\n",
    "\n",
    "        Parameters\n",
    "        -----------\n",
    "        mispts : array\n",
    "            Set of misclassified data points.\n",
    "            Default: None\n",
    "        vec : array\n",
    "            Weights vector that describes the hypotesis.\n",
    "            Default: None\n",
    "        save : Boolean\n",
    "            If the value is True the plots are saved to disk.\n",
    "            Default: False\n",
    "        imgname : String\n",
    "            Name used to save the plot to disk.\n",
    "            Default: 'tmp'\n",
    "\n",
    "        \"\"\"\n",
    "        fig = plt.figure(figsize=(5,5))\n",
    "        plt.xlim(-1, 1)\n",
    "        plt.ylim(-1, 1)\n",
    "        V = self.V\n",
    "\n",
    "        a, b = -V[1] / V[2], -V[0] / V[2]\n",
    "        l = np.linspace(-1, 1)\n",
    "\n",
    "        plt.plot(l, a * l + b, 'k-')\n",
    "        cols = {1: 'r', -1: 'b'}\n",
    "\n",
    "        if mispts == None:\n",
    "            for x, s in self.X:\n",
    "                plt.plot(x[1], x[2], cols[s] + 'o')\n",
    "\n",
    "        if mispts:\n",
    "            for x, s in mispts:\n",
    "                plt.plot(x[1], x[2], cols[s] + '.')\n",
    "\n",
    "        if vec != None:\n",
    "            aa, bb = -vec[1] / vec[2], -vec[0] / vec[2]\n",
    "            plt.plot(l, aa * l + bb, 'g-', lw=2)\n",
    "\n",
    "        if save:\n",
    "            if not mispts:\n",
    "                plt.title('N = %s' % (str(len(self.X))))\n",
    "                plt.xlabel('x1')\n",
    "                plt.ylabel('x2')\n",
    "            else:\n",
    "                plt.title(\n",
    "                    'N = %s with %s test points' %\n",
    "                    (str(len(self.X)), str(len(mispts)))\n",
    "                )\n",
    "                plt.xlabel('x1')\n",
    "                plt.ylabel('x2')\n",
    "            plt.savefig(\n",
    "                IMAGE_PATH + imgname, dpi=75, bbox_inches='tight'\n",
    "            )\n",
    "            plt.close()\n",
    "\n",
    "    def classification_error(self, vec, pts=None):\n",
    "        \"\"\"\n",
    "        Error classification method.\n",
    "\n",
    "        Parameters\n",
    "        -----------\n",
    "        vec : array\n",
    "            Weights vector used to classify a point.\n",
    "        pts : array\n",
    "            Data points to evaluate:\n",
    "            Default: self.X\n",
    "\n",
    "        Returns\n",
    "        --------\n",
    "        error : float\n",
    "            Fraction of misclassified points.\n",
    "        mispts: array\n",
    "            Set of misclassified points.\n",
    "\n",
    "        \"\"\"\n",
    "        # Error defined as fraction of misclassified points\n",
    "        if not pts:\n",
    "            pts = self.X\n",
    "        M = len(pts)\n",
    "        n_mispts = 0\n",
    "        mispts = []\n",
    "        for x, s in pts:\n",
    "            if int(np.sign(vec.T.dot(x))) != s:\n",
    "                n_mispts += 1\n",
    "                mispts.append((x, s))\n",
    "        error = n_mispts / float(M)\n",
    "        return error, mispts\n",
    "\n",
    "    def choose_miscl_point(self, vec):\n",
    "        \"\"\"\n",
    "        Choose a misclassified point method.\n",
    "\n",
    "        Parameters\n",
    "        -----------\n",
    "        vec : array\n",
    "            Weights vector used to classify a point.\n",
    "\n",
    "        Returns\n",
    "        --------\n",
    "        mispts[i] : array\n",
    "            Selected misclassified data point.\n",
    "\n",
    "        \"\"\"\n",
    "        # Choose a random point among the misclassified\n",
    "        pts = self.X\n",
    "        mispts = []\n",
    "        for x, s in pts:\n",
    "            if int(np.sign(vec.T.dot(x))) != s:\n",
    "                if not self.rmispts:\n",
    "                    return (x, s)\n",
    "                mispts.append((x, s))\n",
    "        return mispts[self.rgenmispts.randint(0, len(mispts))]\n",
    "\n",
    "    def pla(self, save=False, suffix=''):\n",
    "        \"\"\"\n",
    "        Perceptron learning algorithm method.\n",
    "\n",
    "        Parameters\n",
    "        -----------\n",
    "        save : Boolean\n",
    "            If value is True Save the sequence of plots in which the algorithm \n",
    "            go through.\n",
    "        suffix : String\n",
    "            suffix to add to the name used to save the sequence of plots to disk.\n",
    "\n",
    "        Returns\n",
    "        --------\n",
    "        it : Integer\n",
    "            Number of iterations the algorithm took to converge.\n",
    "\n",
    "        \"\"\"\n",
    "\n",
    "        # Initialize the weights to zeros\n",
    "        w = np.zeros(self.dim + 1)\n",
    "        X, N = self.X, len(self.X)\n",
    "\n",
    "        it = 0\n",
    "        # Iterate until all points are correctly classified\n",
    "        while self.classification_error(w)[0] != 0:\n",
    "            it += 1\n",
    "            # Pick random misclassified point\n",
    "            x, s = self.choose_miscl_point(w)\n",
    "            # Update weights\n",
    "            w += s * x\n",
    "            if save:\n",
    "                self.plot(vec=w.tolist())\n",
    "                plt.title('N = %s, Iteration %s\\n' % (str(N), str(it)))\n",
    "                plt.xlabel('x1')\n",
    "                plt.ylabel('x2')\n",
    "                plt.savefig(\n",
    "                    IMAGE_PATH + suffix + 'p_N%s_it%s' % (str(N), str(it)),\n",
    "                    dpi=75, bbox_inches='tight'\n",
    "                )\n",
    "                plt.close()\n",
    "        self.w = w\n",
    "        return it\n",
    "\n",
    "    def adaline(self, save=False, suffix='', lrate=1, limit=10):\n",
    "        \"\"\"\n",
    "        Adaptive linear neuron algorithm method.\n",
    "\n",
    "        Parameters\n",
    "        -----------\n",
    "        save : Boolean\n",
    "            If value is True Save the sequence of plots in which the algorithm \n",
    "            go through.\n",
    "        suffix : String\n",
    "            suffix to add to the name used to save the sequence of plots to disk.\n",
    "        lrate : float\n",
    "            Learning rate factor.\n",
    "        limit : Integer\n",
    "            Maximum number of updates the algorithm does.\n",
    "\n",
    "        Returns\n",
    "        --------\n",
    "        self : object\n",
    "\n",
    "        \"\"\"\n",
    "        # Initialize the weigths to zeros\n",
    "        w = np.zeros(self.dim + 1)\n",
    "        X, N = self.X, len(self.X)\n",
    "\n",
    "        it = 0\n",
    "        # Iterate until all points are correctly classified\n",
    "        while it < limit and self.classification_error(w)[0] != 0:\n",
    "            it += 1\n",
    "            # Pick random misclassified point\n",
    "            x, s = self.choose_miscl_point(w)\n",
    "            y = w.T.dot(x)\n",
    "            # Update weights\n",
    "            w += lrate * (s - y) * x\n",
    "            if save:\n",
    "                self.plot(vec=w.tolist())\n",
    "                plt.title('N = %s, Iteration %s\\n' % (str(N), str(it)))\n",
    "                plt.xlabel('x1')\n",
    "                plt.ylabel('x2')\n",
    "                plt.savefig(\n",
    "                    IMAGE_PATH + suffix + 'p_N%s_it%s' % (str(N), str(it)),\n",
    "                    dpi=75, bbox_inches='tight'\n",
    "                )\n",
    "                plt.close()\n",
    "        self.w = w\n",
    "        return it\n",
    "\n",
    "    def check_error(self, M, vec):\n",
    "        \"\"\"\n",
    "        Test data error check method.\n",
    "\n",
    "        Parameters\n",
    "        -----------\n",
    "        N : Integer\n",
    "            Number of data points to generate.\n",
    "        vec : array\n",
    "            Weights vector, generated by running the algorithm with a training\n",
    "            set, used to classify the data points.\n",
    "\n",
    "        Returns\n",
    "        --------\n",
    "        error : float\n",
    "            Fraction of misclassified points.\n",
    "        miscpoints: array\n",
    "            Set of misclassified points.\n",
    "        check_pts: array\n",
    "            The generated data points.\n",
    "\n",
    "        \"\"\"\n",
    "        check_pts = self.generate_points(M)\n",
    "        error, miscpoints = self.classification_error(vec, pts=check_pts)\n",
    "        return error, miscpoints, check_pts"
   ]
  },
  {
   "cell_type": "markdown",
   "metadata": {},
   "source": [
    "## Visualize"
   ]
  },
  {
   "cell_type": "code",
   "execution_count": 85,
   "metadata": {
    "collapsed": true
   },
   "outputs": [],
   "source": [
    "def get_images(suffix):\n",
    "    \"\"\"\n",
    "    Get the list of images associated to a suffix.\n",
    "\n",
    "    Parameters\n",
    "    -----------\n",
    "    suffix : String\n",
    "        Suffix of set of requested images.\n",
    "\n",
    "    Returns\n",
    "    --------\n",
    "    sortpngs : array\n",
    "        Set of images (plots) names.\n",
    "\n",
    "    \"\"\"\n",
    "    basedir = os.getcwd()\n",
    "    os.chdir(basedir)\n",
    "    pngs = [pl for pl in os.listdir(IMAGE_PATH) if pl.endswith(\n",
    "        'png') and pl.startswith(suffix)]\n",
    "    sortpngs = sorted(pngs, key=lambda a: int(a.split('it')[1][:-4]))\n",
    "    return sortpngs"
   ]
  },
  {
   "cell_type": "code",
   "execution_count": 86,
   "metadata": {
    "collapsed": true
   },
   "outputs": [],
   "source": [
    "def show_animation(image1, image2):\n",
    "    \"\"\"\n",
    "    Show images or animations method.\n",
    "\n",
    "    Parameters\n",
    "    -----------\n",
    "    image1 : String\n",
    "        image url.\n",
    "    image2 : String\n",
    "        image url.\n",
    "\n",
    "    Returns\n",
    "    --------\n",
    "    htmlcode : HTML\n",
    "\n",
    "    \"\"\"\n",
    "    header = \"<html><head><style>*{box-sizing:border-box;}.column{float:left;width:50%;padding:2px;}/*Clearfix(clearfloats)*/.row::after{content:\"\";clear:both;display:table;}</style></head><body>\"\n",
    "    footer = \"</body></html>\"\n",
    "    return HTML(\n",
    "        header +\n",
    "        '''\n",
    "        <div class=\"row\">\n",
    "            <div class=\"column\">\n",
    "            <img style=\"display: block;margin-left: auto;margin-right: auto;width: 65%;\" src=\"''' + IMAGE_PATH + image1 + '''\">\n",
    "            </div>\n",
    "            <div class=\"column\">\n",
    "            <img style=\"display: block;margin-left: auto;margin-right: auto;width: 65%;\" src=\"''' + IMAGE_PATH + image2 + '''\">\n",
    "            </div>\n",
    "        </div>\n",
    "        '''\n",
    "        + footer\n",
    "    )"
   ]
  },
  {
   "cell_type": "code",
   "execution_count": 87,
   "metadata": {
    "collapsed": true
   },
   "outputs": [],
   "source": [
    "def create_animation(filenames, duration=0.50, name='tmp'):\n",
    "    \"\"\"\n",
    "    Create gif animation method. \n",
    "\n",
    "    Parameters\n",
    "    -----------\n",
    "    filenames : array\n",
    "        Set of the images names to create the animation.\n",
    "    duration : float\n",
    "        Duration of one image in the animation.\n",
    "    name : String\n",
    "        Name used to save the animation to disk.\n",
    "\n",
    "    Returns\n",
    "    --------\n",
    "    gifname : String\n",
    "        Name of the animation file.\n",
    "\n",
    "    \"\"\"\n",
    "    images = []\n",
    "    for filename in filenames:\n",
    "        images.append(imageio.imread(IMAGE_PATH + filename))\n",
    "    gifname = name + \".gif\"\n",
    "    output_file = IMAGE_PATH + '%s' % gifname\n",
    "    imageio.mimsave(output_file, images, duration=duration)\n",
    "    return gifname"
   ]
  },
  {
   "cell_type": "markdown",
   "metadata": {},
   "source": [
    "## PLA, (Problem 1.4  Learning from data book)\n",
    "\n",
    "In this Experiment, we use an artificial data set to study the perceptron learning algorithm . We are going to explore the algorithm further with data sets of different sizes and dimensions."
   ]
  },
  {
   "cell_type": "markdown",
   "metadata": {},
   "source": [
    "- We are first going to generate a linearly separable data set of size $n=20$ points. To generate the data set randomly we will use a radom seed `1995` so we can run it and get the same random result each time we execute it. It is important to notice that the data set generator is already included in the Percpetron class created above."
   ]
  },
  {
   "cell_type": "code",
   "execution_count": 88,
   "metadata": {
    "collapsed": true
   },
   "outputs": [],
   "source": [
    "p_b = Perceptron(20,datarseed=1995)"
   ]
  },
  {
   "cell_type": "markdown",
   "metadata": {},
   "source": [
    "- We are now going to run the perceptron learning algorithm on the data set above. Since the PLA is an iterative algorithm the main idea is to report the number of updates that the it takes before converging and observe how it performs with respect to the data set."
   ]
  },
  {
   "cell_type": "code",
   "execution_count": 89,
   "metadata": {},
   "outputs": [
    {
     "name": "stdout",
     "output_type": "stream",
     "text": [
      "Number of iteratios: 11\n"
     ]
    }
   ],
   "source": [
    "iterations = p_b.pla(save=True, suffix='pb_')\n",
    "print(\"Number of iteratios: %d\" % (iterations))"
   ]
  },
  {
   "cell_type": "markdown",
   "metadata": {},
   "source": [
    "- To cleary show what is going on with the algorithm execution we plot the examples $\\{ (X_n, Y_n) \\}$ , the target function $f$ (**black**), and the final hypothesis $g$ (**green**) in the same figure."
   ]
  },
  {
   "cell_type": "code",
   "execution_count": 90,
   "metadata": {},
   "outputs": [
    {
     "data": {
      "text/html": [
       "<html><head><style>*{box-sizing:border-box;}.column{float:left;width:50%;padding:2px;}/*Clearfix(clearfloats)*/.row::after{content:;clear:both;display:table;}</style></head><body>\n",
       "        <div class=\"row\">\n",
       "            <div class=\"column\">\n",
       "            <img style=\"display: block;margin-left: auto;margin-right: auto;width: 65%;\" src=\"images/animation_pb_1995.gif\">\n",
       "            </div>\n",
       "            <div class=\"column\">\n",
       "            <img style=\"display: block;margin-left: auto;margin-right: auto;width: 65%;\" src=\"images/pb_p_N20_it11.png\">\n",
       "            </div>\n",
       "        </div>\n",
       "        </body></html>"
      ],
      "text/plain": [
       "<IPython.core.display.HTML object>"
      ]
     },
     "execution_count": 90,
     "metadata": {},
     "output_type": "execute_result"
    }
   ],
   "source": [
    "images = get_images('pb_')\n",
    "animation = create_animation(images,0.50,name='animation_pb_1995')\n",
    "show_animation(animation, images[-1])"
   ]
  },
  {
   "cell_type": "markdown",
   "metadata": {},
   "source": [
    "In the first plot we can observe the behaviour of the PLA which passes through **11 iterations** before find an hypothesis which classifies the data correctly. In the second plot we may notice that although $g$ is very close to $f$ and it completely separtes the data set, they are not quite identical."
   ]
  },
  {
   "cell_type": "markdown",
   "metadata": {},
   "source": [
    "- We repeat everything we've done above with another randomly, random seed `1996`, generated data set of size $n=20,$ to compare the results."
   ]
  },
  {
   "cell_type": "code",
   "execution_count": 91,
   "metadata": {
    "collapsed": true
   },
   "outputs": [],
   "source": [
    "p_c = Perceptron(20,datarseed=1996)"
   ]
  },
  {
   "cell_type": "code",
   "execution_count": 92,
   "metadata": {},
   "outputs": [
    {
     "name": "stdout",
     "output_type": "stream",
     "text": [
      "Number of iteratios: 22\n"
     ]
    }
   ],
   "source": [
    "iterations = p_c.pla(save=True, suffix='pc_')\n",
    "print(\"Number of iteratios: %d\" % (iterations))"
   ]
  },
  {
   "cell_type": "code",
   "execution_count": 93,
   "metadata": {},
   "outputs": [
    {
     "data": {
      "text/html": [
       "<html><head><style>*{box-sizing:border-box;}.column{float:left;width:50%;padding:2px;}/*Clearfix(clearfloats)*/.row::after{content:;clear:both;display:table;}</style></head><body>\n",
       "        <div class=\"row\">\n",
       "            <div class=\"column\">\n",
       "            <img style=\"display: block;margin-left: auto;margin-right: auto;width: 65%;\" src=\"images/animation_pc_1996.gif\">\n",
       "            </div>\n",
       "            <div class=\"column\">\n",
       "            <img style=\"display: block;margin-left: auto;margin-right: auto;width: 65%;\" src=\"images/pc_p_N20_it22.png\">\n",
       "            </div>\n",
       "        </div>\n",
       "        </body></html>"
      ],
      "text/plain": [
       "<IPython.core.display.HTML object>"
      ]
     },
     "execution_count": 93,
     "metadata": {},
     "output_type": "execute_result"
    }
   ],
   "source": [
    "images = get_images('pc_')\n",
    "animation = create_animation(images,0.50,name='animation_pc_1996')\n",
    "show_animation(animation, images[-1])"
   ]
  },
  {
   "cell_type": "markdown",
   "metadata": {},
   "source": [
    "In the first plot we can observe the behaviour of the PLA which passes through **22 iterations** before find an hypothesis which classifies the data correctly. In the second plot we may notice that although $g$ is very close to $f$ and it completely  separtes the data set , they are not quite identical. Compared with the previous results this time the PLA took more iterations to converge. We can observe that the PLA can take more or less iterations to converge depending on the data set and not in $f$. "
   ]
  },
  {
   "cell_type": "markdown",
   "metadata": {},
   "source": [
    "- In order to analyse the behaviour of the PLA with respect to the data set size we repeat everything we've done in the first part of this experiment, with a nother randomly generated data set of size $n=100$."
   ]
  },
  {
   "cell_type": "code",
   "execution_count": 94,
   "metadata": {
    "collapsed": true
   },
   "outputs": [],
   "source": [
    "p_d = Perceptron(100,datarseed=7878)"
   ]
  },
  {
   "cell_type": "code",
   "execution_count": 95,
   "metadata": {},
   "outputs": [
    {
     "name": "stdout",
     "output_type": "stream",
     "text": [
      "Number of iteratios: 75\n"
     ]
    }
   ],
   "source": [
    "iterations = p_d.pla(save=True, suffix='pd_')\n",
    "print(\"Number of iteratios: %d\" % (iterations))"
   ]
  },
  {
   "cell_type": "code",
   "execution_count": 96,
   "metadata": {},
   "outputs": [
    {
     "data": {
      "text/html": [
       "<html><head><style>*{box-sizing:border-box;}.column{float:left;width:50%;padding:2px;}/*Clearfix(clearfloats)*/.row::after{content:;clear:both;display:table;}</style></head><body>\n",
       "        <div class=\"row\">\n",
       "            <div class=\"column\">\n",
       "            <img style=\"display: block;margin-left: auto;margin-right: auto;width: 65%;\" src=\"images/animation_pd_7878.gif\">\n",
       "            </div>\n",
       "            <div class=\"column\">\n",
       "            <img style=\"display: block;margin-left: auto;margin-right: auto;width: 65%;\" src=\"images/pd_p_N100_it75.png\">\n",
       "            </div>\n",
       "        </div>\n",
       "        </body></html>"
      ],
      "text/plain": [
       "<IPython.core.display.HTML object>"
      ]
     },
     "execution_count": 96,
     "metadata": {},
     "output_type": "execute_result"
    }
   ],
   "source": [
    "images = get_images('pd_')\n",
    "animation = create_animation(images,0.50,name='animation_pd_7878')\n",
    "show_animation(animation, images[-1])"
   ]
  },
  {
   "cell_type": "markdown",
   "metadata": {},
   "source": [
    "In the first plot we can observe the behaviour of the PLA which passes through **75 iterations** before converge. In the second plot we may notice that $g$ if pretty close to $f$ and it completely separtes the data set. Compared with the two previous results this time the PLA took more iterations than both. Also we can notice that this time $g$ is more similiar to $f$. "
   ]
  },
  {
   "cell_type": "markdown",
   "metadata": {},
   "source": [
    "- In order to analyse the behaviour of the PLA with respect to the data set size we again repeat everything we've done in the first part of this experiment, with another randomly generated data set of size $n=1000$."
   ]
  },
  {
   "cell_type": "code",
   "execution_count": 97,
   "metadata": {
    "collapsed": true
   },
   "outputs": [],
   "source": [
    "p_e = Perceptron(1000,datarseed=2000)\n",
    "p_e.plot(save=True, imgname='pe_sample_2000')"
   ]
  },
  {
   "cell_type": "code",
   "execution_count": 98,
   "metadata": {},
   "outputs": [
    {
     "name": "stdout",
     "output_type": "stream",
     "text": [
      "Number of iteratios: 432\n"
     ]
    }
   ],
   "source": [
    "iterations = p_e.pla()\n",
    "print(\"Number of iteratios: %d\" % (iterations))"
   ]
  },
  {
   "cell_type": "code",
   "execution_count": 99,
   "metadata": {},
   "outputs": [
    {
     "data": {
      "text/html": [
       "<html><head><style>*{box-sizing:border-box;}.column{float:left;width:50%;padding:2px;}/*Clearfix(clearfloats)*/.row::after{content:;clear:both;display:table;}</style></head><body>\n",
       "        <div class=\"row\">\n",
       "            <div class=\"column\">\n",
       "            <img style=\"display: block;margin-left: auto;margin-right: auto;width: 65%;\" src=\"images/pe_sample_2000.png\">\n",
       "            </div>\n",
       "            <div class=\"column\">\n",
       "            <img style=\"display: block;margin-left: auto;margin-right: auto;width: 65%;\" src=\"images/animation_pe_sample_2000.png\">\n",
       "            </div>\n",
       "        </div>\n",
       "        </body></html>"
      ],
      "text/plain": [
       "<IPython.core.display.HTML object>"
      ]
     },
     "execution_count": 99,
     "metadata": {},
     "output_type": "execute_result"
    }
   ],
   "source": [
    "p_e.plot(vec=p_e.w.tolist(), save=True, imgname='animation_pe_sample_2000')\n",
    "show_animation('pe_sample_2000.png', 'animation_pe_sample_2000.png')"
   ]
  },
  {
   "cell_type": "markdown",
   "metadata": {},
   "source": [
    "This time the animation of the PLA algorithm is not shown due to the number of iterations it takes, **432 iterations**. However the first plot shows $f$ and the second one shows $g$ and $f$ together which are nearly indistinguishable. Compared to the previos results we observe that the number of iterations grows when the data set is bigger, but also that $g$ is closer to $f$ since the possibilites to separate the data are fewer."
   ]
  },
  {
   "cell_type": "markdown",
   "metadata": {},
   "source": [
    "- We will now try to observe the performance of the PLA modifying the algorithm such that it takes $x_n  \\in  \\mathbb{R}^{10} $ instead of $\\mathbb{R}^2$ . A linearly separable data set of size $n=1000$ will be generated and we will let the PLA run until converge to count the number of iterations it takes to converge. It is important to mention that it is possible to specify the number of dimensions in which the algorithm works within the Perceptron class created above."
   ]
  },
  {
   "cell_type": "code",
   "execution_count": 100,
   "metadata": {},
   "outputs": [
    {
     "name": "stdout",
     "output_type": "stream",
     "text": [
      "Number of iteratios: 4569\n"
     ]
    }
   ],
   "source": [
    "p_f = Perceptron(1000,datarseed=2003,dimension=10)\n",
    "iterations = p_f.pla()\n",
    "print(\"Number of iteratios: %d\" % (iterations))"
   ]
  },
  {
   "cell_type": "markdown",
   "metadata": {},
   "source": [
    "The PLA took **4569 iterations** way higher than the previous results with $x \\in \\mathbb{R}^2$. So we can say that the increase on the dimensios has an significant impact in the PLA performance."
   ]
  },
  {
   "cell_type": "markdown",
   "metadata": {},
   "source": [
    "- Repeat the algorithm on the same data set used above for 100 experiments. In the iterations of each experiment, pick $x(t)$ **randomly** instead of deterministically. Plot a histogram for the number of updates that the algorithm takes to converge.\n",
    "\n",
    "`Note:` Please consider that running this code below could take long time. If you want to run it please change the `run` boolean variable to `True`."
   ]
  },
  {
   "cell_type": "code",
   "execution_count": 101,
   "metadata": {
    "collapsed": true
   },
   "outputs": [],
   "source": [
    "import random\n",
    "aiter = []\n",
    "run = False # change to run 100 experiments\n",
    "g = random.Random()\n",
    "g.seed(8435)\n",
    "rs = g.sample(range(1000, 9999), 100)\n",
    "if run:\n",
    "    for i in range(100):\n",
    "        p_g = Perceptron(1000,datarseed=2003, rmispts=True, misptsrseed=rs[i], dimension=10)\n",
    "        iterations = p_g.pla()\n",
    "        aiter.append(iterations)\n",
    "        print(\"Number of iterations: %d, random seed %d\" % (iterations,rs[i]))"
   ]
  },
  {
   "cell_type": "markdown",
   "metadata": {},
   "source": [
    " |**Iterations**|**Random seed**| |**Iterations**|**Random seed**| |**Iterations**|**Random seed**| |**Iterations**|**Random seed**| |**Iterations**|**Random seed**\n",
    ":-----:|:-----:|:-----:|:-----:|:-----:|:-----:|:-----:|:-----:|:-----:|:-----:|:-----:|:-----:|:-----:|:-----:|:-----:\n",
    "**1.**|3207|5185|**21.**|2423|6375|**41.**|3391|6652|**61.**|3215|3084|**81.**|3407|9231\n",
    "**2.**|3711|1550|**22.**|3399|3469|**42.**|2673|8899|**62.**|2969|1391|**82.**|2701|9009\n",
    "**3.**|3717|7200|**23.**|2495|1138|**43.**|3511|1820|**63.**|3245|6176|**83.**|2895|3670\n",
    "**4.**|3623|8980|**24.**|3021|2746|**44.**|2279|7739|**64.**|2671|6455|**84.**|3329|2762\n",
    "**5.**|1971|6864|**25.**|3397|7554|**45.**|2435|2125|**65.**|2693|1755|**85.**|3409|3730\n",
    "**6.**|2960|1665|**26.**|3037|1620|**46.**|3503|7197|**66.**|2969|2935|**86.**|2535|4068\n",
    "**7.**|2437|4429|**27.**|2971|1574|**47.**|3127|1052|**67.**|3517|1260|**87.**|2311|5362\n",
    "**8.**|3907|6619|**28.**|3477|2468|**48.**|2363|1601|**68.**|2881|5693|**88.**|2251|5258\n",
    "**9.**|1959|9700|**29.**|2737|7188|**49.**|2681|5742|**69.**|2885|7089|**89.**|2827|1671\n",
    "**10.**|2487|4882|**30.**|2627|4789|**50.**|3205|4969|**70.**|3231|8424|**90.**|3417|4125\n",
    "**11.**|2367|4599|**31.**|3719|3910|**51.**|2843|1141|**71.**|3617|3684|**91.**|2399|6289\n",
    "**12.**|2501|9305|**32.**|3283|9501|**52.**|3107|8812|**72.**|2721|1355|**92.**|2669|5539\n",
    "**13.**|2913|9192|**33.**|2477|2956|**53.**|2851|8673|**73.**|2795|4975|**93.**|2399|9730\n",
    "**14.**|1999|9419|**34.**|2521|6595|**54.**|2669|3597|**74.**|2245|2371|**94.**|2283|1106\n",
    "**15.**|3651|9428|**35.**|1805|1196|**55.**|2859|2044|**75.**|2877|1182|**95.**|2857|7987\n",
    "**16.**|2653|8028|**36.**|1441|1007|**56.**|3645|7939|**76.**|3617|5816|**96.**|2177|1061\n",
    "**17.**|3263|5212|**37.**|3073|3354|**57.**|3011|8749|**77.**|3023|7602|**97.**|3005|9517\n",
    "**18.**|3313|9357|**38.**|2987|4439|**58.**|2647|9926|**78.**|3241|3753|**98.**|3329|7092\n",
    "**19.**|3137|1918|**39.**|2459|6847|**59.**|3245|9533|**79.**|2591|4191|**99.**|2993|1416\n",
    "**20.**|2885|3109|**40.**|3186|6934|**60.**|2783|1448|**80.**|2781|4462|**100.**|2523|8021"
   ]
  },
  {
   "cell_type": "code",
   "execution_count": 102,
   "metadata": {},
   "outputs": [
    {
     "data": {
      "text/plain": [
       "<matplotlib.figure.Figure at 0x233e0140b00>"
      ]
     },
     "metadata": {},
     "output_type": "display_data"
    },
    {
     "data": {
      "image/png": "[encoded data removed]",
      "text/plain": [
       "<matplotlib.figure.Figure at 0x233e368c518>"
      ]
     },
     "metadata": {},
     "output_type": "display_data"
    }
   ],
   "source": [
    "x = np.array(aiter) if run else \\\n",
    "    np.array([3207,3711,3717,3623,1971,2960,2437,3907,1959,2487,\n",
    "              2367,2501,2913,1999,3651,2653,3263,3313,3137,2885,\n",
    "              2423,3399,2495,3021,3397,3037,2971,3477,2737,2627,\n",
    "              3719,3283,2477,2521,1805,1441,3073,2987,2459,3186,\n",
    "              3391,2673,3511,2279,2435,3503,3127,2363,2681,3205,\n",
    "              2843,3107,2851,2669,2859,3645,3011,2647,3245,2783,\n",
    "              3215,2969,3245,2671,2693,2969,3517,2881,2885,3231,\n",
    "              3617,2721,2795,2245,2877,3617,3023,3241,2591,2781,\n",
    "              3407,2701,2895,3329,3409,2535,2311,2251,2827,3417,\n",
    "              2399,2669,2399,2283,2857,2177,3005,3329,2993,2523])\n",
    "\n",
    "plt.gcf().clear()\n",
    "\n",
    "# the histogram of the data\n",
    "n, bins, patches = plt.hist(x, 10, facecolor='blue', alpha=0.75)\n",
    "plt.xlabel('Iterations')\n",
    "plt.ylabel('Count')\n",
    "plt.title(r'$\\mathrm{Histogram\\ of\\ IQ:}\\ \\mu=' + str(x.mean()) + ',\\ \\sigma='+ str(x.std()) +'$')\n",
    "plt.grid(True)\n",
    "\n",
    "plt.show()"
   ]
  },
  {
   "cell_type": "markdown",
   "metadata": {},
   "source": [
    "In summary we have executed 100 time the a data set with $n=1000$ where $ x_n  \\in  \\mathbb{R}^{10} $ using different random seeds to select randomly the miscalssifed point. The results give us a mean of $\\mu = 2895.24$ and $\\sigma = 476.73$ which compared with previous experiment, in where we chose the misclassified point deterministically, needs in average, less iterations to converge. with a minimum of **1441** and maximum of **3907** iterations."
   ]
  },
  {
   "cell_type": "markdown",
   "metadata": {},
   "source": [
    "### Expriment conclusions\n",
    "\n",
    "The main objectives of this experimet was to understand how the perceptron algorithm works and to observe how the amount of data and the data space affect its performance. So we can conclude that the more separable data we have the closer the hypothesis $g$ \n",
    "will be with respecto to $f$. However we could observe that if we choose deterministically the misclassified points  the number of iterations will increase. Another point to make is that, as we observed in the last two sub experiments, the dimension space of the data has a signficant impact on the number of iterations to classify the data, for instance with $x \\in \\mathbb{R}^2$ we needed 432 iterations while with $x \\in \\mathbb{R}^{10} $ the algorithm needed 4569 iterations, which is aproximetally 11 times more.\n",
    "\n",
    "Also we observed that instead of determinstically, we can choose the misclassified point randomly in the PLA, which performed better in an average of 100 trials with different random seeds."
   ]
  },
  {
   "cell_type": "markdown",
   "metadata": {},
   "source": [
    "## ADALINE, Problem 1.5\n",
    "\n",
    "In this second implementation we are going to experiment with a varition of the PLA called ADALINE, which stands for ADaptative LInear NEuron. The main idea of this set of experiments is to train the algorithm varying the value of $\\eta$ which is the learning rate."
   ]
  },
  {
   "cell_type": "markdown",
   "metadata": {},
   "source": [
    "- We will first Generate a **training data set** of size 100 similar to that used in Exercise 1.4. Then we will generate a **test data set** of size 10,000 from the same process. To get $g$, we will run the ADALINE with $\\eta = 100$ on the training data set, until a maximum of 1,000 updates has been reached. We are going to plot the training data set, the target function $f$, and the final hypothesis $g$ and we will also report the error on the test set."
   ]
  },
  {
   "cell_type": "code",
   "execution_count": 103,
   "metadata": {
    "scrolled": false
   },
   "outputs": [
    {
     "name": "stdout",
     "output_type": "stream",
     "text": [
      "Number of iteratios: 1000.000000\n"
     ]
    }
   ],
   "source": [
    "pada_a = Perceptron(100, datarseed=1995, rmispts=True, misptsrseed=8955)\n",
    "\n",
    "iterations = pada_a.adaline(lrate=4, limit=1000)\n",
    "print(\"Number of iteratios: %f\" % (iterations))"
   ]
  },
  {
   "cell_type": "markdown",
   "metadata": {},
   "source": [
    "Using $\\eta = 100$ was not possible in this experiment since at certain point it started to generates too small values which produced Python to recognized it as a non-finite quantity (NaN). So we instead used the maximun value, $\\eta =4$ to avoid that scaneario. In part we had that issue because we are doing 1000 iterations so that means if we use a bigger learning rate we should nee less iterations to converge."
   ]
  },
  {
   "cell_type": "code",
   "execution_count": 104,
   "metadata": {},
   "outputs": [
    {
     "name": "stdout",
     "output_type": "stream",
     "text": [
      "fraction of misclassified points: 0.302700\n"
     ]
    },
    {
     "data": {
      "text/html": [
       "<html><head><style>*{box-sizing:border-box;}.column{float:left;width:50%;padding:2px;}/*Clearfix(clearfloats)*/.row::after{content:;clear:both;display:table;}</style></head><body>\n",
       "        <div class=\"row\">\n",
       "            <div class=\"column\">\n",
       "            <img style=\"display: block;margin-left: auto;margin-right: auto;width: 65%;\" src=\"images/pada_4_10000.png\">\n",
       "            </div>\n",
       "            <div class=\"column\">\n",
       "            <img style=\"display: block;margin-left: auto;margin-right: auto;width: 65%;\" src=\"images/pada_4_miscpoints.png\">\n",
       "            </div>\n",
       "        </div>\n",
       "        </body></html>"
      ],
      "text/plain": [
       "<IPython.core.display.HTML object>"
      ]
     },
     "execution_count": 104,
     "metadata": {},
     "output_type": "execute_result"
    }
   ],
   "source": [
    "error, miscpoints, x = pada_a.check_error(10000,pada_a.w)\n",
    "print(\"fraction of misclassified points: %f\" % error)\n",
    "plt.gcf().clear()\n",
    "pada_a.plot(vec=pada_a.w.tolist(), save=True, imgname='pada_4_10000')\n",
    "plt.gcf().clear()\n",
    "pada_a.plot(mispts=miscpoints, save=True, imgname='pada_4_miscpoints')\n",
    "show_animation('pada_4_10000.png','pada_4_miscpoints.png')"
   ]
  },
  {
   "cell_type": "markdown",
   "metadata": {},
   "source": [
    "As a result we can see the two graphs above and observe that $g$ is quite far from $f$ which causes a **fraction of misclassified points = 0.302700** over the 10000 test points we used to test. The result is clearly what we expected since the $g$ is no quite near $f$."
   ]
  },
  {
   "cell_type": "markdown",
   "metadata": {},
   "source": [
    "- We will Use the same data set used in the previous sub experiment and redo everything with $\\eta = 1$"
   ]
  },
  {
   "cell_type": "code",
   "execution_count": 105,
   "metadata": {},
   "outputs": [
    {
     "name": "stdout",
     "output_type": "stream",
     "text": [
      "Number of iteratios: 48.000000\n"
     ]
    }
   ],
   "source": [
    "pada_b = Perceptron(100, datarseed=1995, rmispts=True, misptsrseed=8955)\n",
    "\n",
    "iterations = pada_b.adaline(lrate=1, limit=1000)\n",
    "print(\"Number of iteratios: %f\" % (iterations))"
   ]
  },
  {
   "cell_type": "code",
   "execution_count": 106,
   "metadata": {
    "scrolled": true
   },
   "outputs": [
    {
     "name": "stdout",
     "output_type": "stream",
     "text": [
      "fraction of misclassified points: 0.007400\n"
     ]
    },
    {
     "data": {
      "text/html": [
       "<html><head><style>*{box-sizing:border-box;}.column{float:left;width:50%;padding:2px;}/*Clearfix(clearfloats)*/.row::after{content:;clear:both;display:table;}</style></head><body>\n",
       "        <div class=\"row\">\n",
       "            <div class=\"column\">\n",
       "            <img style=\"display: block;margin-left: auto;margin-right: auto;width: 65%;\" src=\"images/pada_1_10000.png\">\n",
       "            </div>\n",
       "            <div class=\"column\">\n",
       "            <img style=\"display: block;margin-left: auto;margin-right: auto;width: 65%;\" src=\"images/pada_1_miscpoints.png\">\n",
       "            </div>\n",
       "        </div>\n",
       "        </body></html>"
      ],
      "text/plain": [
       "<IPython.core.display.HTML object>"
      ]
     },
     "execution_count": 106,
     "metadata": {},
     "output_type": "execute_result"
    }
   ],
   "source": [
    "error, miscpoints, x = pada_b.check_error(10000,pada_b.w)\n",
    "print(\"fraction of misclassified points: %f\" % error)\n",
    "plt.gcf().clear()\n",
    "pada_b.plot(vec=pada_b.w.tolist(), save=True, imgname='pada_1_10000')\n",
    "plt.gcf().clear()\n",
    "pada_b.plot(mispts=miscpoints, save=True, imgname='pada_1_miscpoints')\n",
    "show_animation('pada_1_10000.png','pada_1_miscpoints.png')"
   ]
  },
  {
   "cell_type": "markdown",
   "metadata": {},
   "source": [
    "Training the algorithm with $\\eta = 1$ we just needed 48 iterations to separate the data. Testing the the 10000 points data set we got **fraction of misclassified points = 0.0074** which is way better than the previous test. As we can see in the graphs above this time $g$ is closer to $f$ and thus we have better results. In the graph to the right we can observe the missclassified points, 74 in total."
   ]
  },
  {
   "cell_type": "markdown",
   "metadata": {},
   "source": [
    "- We will now use the same data set used in the previous sub experiment and redo everything with $\\eta = 0.01$"
   ]
  },
  {
   "cell_type": "code",
   "execution_count": 107,
   "metadata": {},
   "outputs": [
    {
     "name": "stdout",
     "output_type": "stream",
     "text": [
      "Number of iteratios: 603.000000\n"
     ]
    }
   ],
   "source": [
    "pada_c = Perceptron(100, datarseed=1995, rmispts=True, misptsrseed=8955)\n",
    "iterations = pada_c.adaline(lrate=0.01, limit=1000)\n",
    "\n",
    "print(\"Number of iteratios: %f\" % (iterations))"
   ]
  },
  {
   "cell_type": "code",
   "execution_count": 108,
   "metadata": {},
   "outputs": [
    {
     "name": "stdout",
     "output_type": "stream",
     "text": [
      "fraction of misclassified points: 0.003800\n"
     ]
    },
    {
     "data": {
      "text/html": [
       "<html><head><style>*{box-sizing:border-box;}.column{float:left;width:50%;padding:2px;}/*Clearfix(clearfloats)*/.row::after{content:;clear:both;display:table;}</style></head><body>\n",
       "        <div class=\"row\">\n",
       "            <div class=\"column\">\n",
       "            <img style=\"display: block;margin-left: auto;margin-right: auto;width: 65%;\" src=\"images/pada_001_10000.png\">\n",
       "            </div>\n",
       "            <div class=\"column\">\n",
       "            <img style=\"display: block;margin-left: auto;margin-right: auto;width: 65%;\" src=\"images/pada_001_miscpoints.png\">\n",
       "            </div>\n",
       "        </div>\n",
       "        </body></html>"
      ],
      "text/plain": [
       "<IPython.core.display.HTML object>"
      ]
     },
     "execution_count": 108,
     "metadata": {},
     "output_type": "execute_result"
    }
   ],
   "source": [
    "error, miscpoints, x = pada_c.check_error(10000,pada_c.w)\n",
    "print(\"fraction of misclassified points: %f\" % error)\n",
    "plt.gcf().clear()\n",
    "pada_c.plot(vec=pada_c.w.tolist(), save=True, imgname='pada_001_10000')\n",
    "plt.gcf().clear()\n",
    "pada_c.plot(mispts=miscpoints, save=True, imgname='pada_001_miscpoints')\n",
    "show_animation('pada_001_10000.png','pada_001_miscpoints.png')"
   ]
  },
  {
   "cell_type": "markdown",
   "metadata": {},
   "source": [
    "Training the algorithm with $\\eta = 0.01$ we needed 603 iterations to separate the data which is more than the previous test. However this time we have a better fit $g$ function, almost the same as $f$. Testing the the 10000 points data set we got **fraction of misclassified points = 0.0038** which is way better than the previous test. So at this point we observe that the lower the value of $\\eta$ the better results we got but also the more iterations it takes to converge."
   ]
  },
  {
   "cell_type": "markdown",
   "metadata": {},
   "source": [
    "- We will now use the same data set used in the previous sub experiment and redo everything with $\\eta = 0.0001$"
   ]
  },
  {
   "cell_type": "code",
   "execution_count": 109,
   "metadata": {},
   "outputs": [
    {
     "name": "stdout",
     "output_type": "stream",
     "text": [
      "Number of iteratios: 205.000000\n"
     ]
    }
   ],
   "source": [
    "pada_d = Perceptron(100, datarseed=1995, rmispts=True, misptsrseed=8955)\n",
    "iterations = pada_d.adaline(lrate=0.0001, limit=1000)\n",
    "\n",
    "print(\"Number of iteratios: %f\" % (iterations))"
   ]
  },
  {
   "cell_type": "code",
   "execution_count": 110,
   "metadata": {},
   "outputs": [
    {
     "name": "stdout",
     "output_type": "stream",
     "text": [
      "fraction of misclassified points: 0.007500\n"
     ]
    },
    {
     "data": {
      "text/html": [
       "<html><head><style>*{box-sizing:border-box;}.column{float:left;width:50%;padding:2px;}/*Clearfix(clearfloats)*/.row::after{content:;clear:both;display:table;}</style></head><body>\n",
       "        <div class=\"row\">\n",
       "            <div class=\"column\">\n",
       "            <img style=\"display: block;margin-left: auto;margin-right: auto;width: 65%;\" src=\"images/pada_00001_10000.png\">\n",
       "            </div>\n",
       "            <div class=\"column\">\n",
       "            <img style=\"display: block;margin-left: auto;margin-right: auto;width: 65%;\" src=\"images/pada_00001_miscpoints.png\">\n",
       "            </div>\n",
       "        </div>\n",
       "        </body></html>"
      ],
      "text/plain": [
       "<IPython.core.display.HTML object>"
      ]
     },
     "execution_count": 110,
     "metadata": {},
     "output_type": "execute_result"
    }
   ],
   "source": [
    "error, miscpoints, x = pada_d.check_error(10000,pada_d.w)\n",
    "print(\"fraction of misclassified points: %f\" % error)\n",
    "plt.gcf().clear()\n",
    "pada_d.plot(vec=pada_d.w.tolist(), save=True, imgname='pada_00001_10000')\n",
    "plt.gcf().clear()\n",
    "pada_d.plot(mispts=miscpoints, save=True, imgname='pada_00001_miscpoints')\n",
    "show_animation('pada_00001_10000.png','pada_00001_miscpoints.png')"
   ]
  },
  {
   "cell_type": "markdown",
   "metadata": {},
   "source": [
    "Training the algorithm with $\\eta = 0.0001$ we needed 205 iterations to separate the data which. We can observe that the higuer or lower $\\eta$ is the less iterations the algorithm will take to converge. We can see in the first graph that again $g$ is a little deviated from $f$ with **fraction of misclassified points = 0.0075**. We got similar results with $\\eta = 1$."
   ]
  },
  {
   "cell_type": "markdown",
   "metadata": {
    "collapsed": true
   },
   "source": [
    "### Expriment conclusions\n",
    "\n",
    "Analysing the experiments we just have done, we can observe that we obtained better results with a value of $\\eta$ that is not in the extremes but in the middle. So we can say that if we need to find a balance in the learning rate because it can push too much or too low to converge.\n",
    "\n",
    "We also can observe that the greater or lower $\\eta$ is the less iterations the algorithm will need to converge. And if $\\eta$ is moderate it will converge slower. We can observe that since the number of iterations for $\\eta=1$, $\\eta=0.01$ and $\\eta=0.0001$ converge **48**, **603** and **205** iterations respectivelly. So it is possible to adjust those parameters in order to try to get better results, but we noticed that for classification purposes more iterations is better than a lower or higher learning rate $\\eta$."
   ]
  },
  {
   "cell_type": "markdown",
   "metadata": {},
   "source": [
    "## Overal conclusion"
   ]
  },
  {
   "cell_type": "code",
   "execution_count": null,
   "metadata": {
    "collapsed": true
   },
   "outputs": [],
   "source": []
  }
 ],
 "metadata": {
  "kernelspec": {
   "display_name": "Python 3",
   "language": "python",
   "name": "python3"
  },
  "language_info": {
   "codemirror_mode": {
    "name": "ipython",
    "version": 3
   },
   "file_extension": ".py",
   "mimetype": "text/x-python",
   "name": "python",
   "nbconvert_exporter": "python",
   "pygments_lexer": "ipython3",
   "version": "3.6.3"
  }
 },
 "nbformat": 4,
 "nbformat_minor": 2
}
